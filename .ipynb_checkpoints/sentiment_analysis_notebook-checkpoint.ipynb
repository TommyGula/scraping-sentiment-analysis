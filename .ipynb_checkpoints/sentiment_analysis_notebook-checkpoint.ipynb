{
 "cells": [
  {
   "cell_type": "markdown",
   "id": "ec8b43fa-260f-4c36-9d0f-6cc11684e7be",
   "metadata": {},
   "source": [
    "**Sentiment Analysis Project**\n",
    "\n",
    "A common Neural Network to analyse movie reviews sentiment and predict handwritten reviews"
   ]
  },
  {
   "cell_type": "code",
   "execution_count": 1,
   "id": "e9fc8f2f-1c56-4a23-9e21-264ed43012bf",
   "metadata": {},
   "outputs": [],
   "source": [
    "#Import libraries\n",
    "\n",
    "import nltk\n",
    "from nltk.corpus import movie_reviews\n",
    "import random\n",
    "import pandas as pd\n",
    "import numpy as np\n",
    "from tensorflow.keras.preprocessing import sequence\n",
    "import tensorflow as tf\n",
    "import matplotlib.pyplot as plt"
   ]
  },
  {
   "cell_type": "code",
   "execution_count": 2,
   "id": "3a9293f5-2d5d-4b41-80e6-d1114d39aae7",
   "metadata": {},
   "outputs": [],
   "source": [
    "#Import documents\n",
    "\n",
    "documents = [(list(movie_reviews.words(fileid)), category)\n",
    "              for category in movie_reviews.categories()\n",
    "              for fileid in movie_reviews.fileids(category)]\n",
    "\n",
    "random.shuffle(documents)"
   ]
  },
  {
   "cell_type": "code",
   "execution_count": 3,
   "id": "821d9a40-510e-49e9-b04a-fab2e84fc0a7",
   "metadata": {},
   "outputs": [],
   "source": [
    "#Create DataFrame\n",
    "\n",
    "docs = pd.DataFrame(documents)"
   ]
  },
  {
   "cell_type": "code",
   "execution_count": 4,
   "id": "17d09c7e-42e0-43b1-ab7e-7a22bcee9504",
   "metadata": {},
   "outputs": [
    {
     "data": {
      "text/html": [
       "<div>\n",
       "<style scoped>\n",
       "    .dataframe tbody tr th:only-of-type {\n",
       "        vertical-align: middle;\n",
       "    }\n",
       "\n",
       "    .dataframe tbody tr th {\n",
       "        vertical-align: top;\n",
       "    }\n",
       "\n",
       "    .dataframe thead th {\n",
       "        text-align: right;\n",
       "    }\n",
       "</style>\n",
       "<table border=\"1\" class=\"dataframe\">\n",
       "  <thead>\n",
       "    <tr style=\"text-align: right;\">\n",
       "      <th></th>\n",
       "      <th>Words</th>\n",
       "      <th>Sentiment</th>\n",
       "    </tr>\n",
       "  </thead>\n",
       "  <tbody>\n",
       "    <tr>\n",
       "      <th>0</th>\n",
       "      <td>[one, would, think, that, david, duchovny, ,, ...</td>\n",
       "      <td>0</td>\n",
       "    </tr>\n",
       "    <tr>\n",
       "      <th>1</th>\n",
       "      <td>[seen, may, 2, ,, 1998, at, 3, :, 40, p, ., m,...</td>\n",
       "      <td>0</td>\n",
       "    </tr>\n",
       "    <tr>\n",
       "      <th>2</th>\n",
       "      <td>[\", psycho, meets, the, exorcist, with, no, ho...</td>\n",
       "      <td>1</td>\n",
       "    </tr>\n",
       "    <tr>\n",
       "      <th>3</th>\n",
       "      <td>[so, ask, yourself, what, \", 8mm, \", (, \", eig...</td>\n",
       "      <td>0</td>\n",
       "    </tr>\n",
       "    <tr>\n",
       "      <th>4</th>\n",
       "      <td>[the, tagline, for, this, film, is, :, \", some...</td>\n",
       "      <td>0</td>\n",
       "    </tr>\n",
       "  </tbody>\n",
       "</table>\n",
       "</div>"
      ],
      "text/plain": [
       "                                               Words  Sentiment\n",
       "0  [one, would, think, that, david, duchovny, ,, ...          0\n",
       "1  [seen, may, 2, ,, 1998, at, 3, :, 40, p, ., m,...          0\n",
       "2  [\", psycho, meets, the, exorcist, with, no, ho...          1\n",
       "3  [so, ask, yourself, what, \", 8mm, \", (, \", eig...          0\n",
       "4  [the, tagline, for, this, film, is, :, \", some...          0"
      ]
     },
     "execution_count": 4,
     "metadata": {},
     "output_type": "execute_result"
    }
   ],
   "source": [
    "#Transform DataFrame\n",
    "\n",
    "docs.columns = ['Words', 'Sentiment']\n",
    "docs['Sentiment'] = np.where(docs['Sentiment'] == 'pos', 1, 0)\n",
    "docs.head()"
   ]
  },
  {
   "cell_type": "code",
   "execution_count": 5,
   "id": "64ee365d-7cd5-4009-a4e9-3f871386b5af",
   "metadata": {},
   "outputs": [
    {
     "name": "stdout",
     "output_type": "stream",
     "text": [
      "0    1000\n",
      "1    1000\n",
      "Name: Sentiment, dtype: int64\n"
     ]
    }
   ],
   "source": [
    "#Values distribution\n",
    "\n",
    "print(docs.Sentiment.value_counts())"
   ]
  },
  {
   "cell_type": "code",
   "execution_count": 6,
   "id": "03f6891a-e22a-4a55-b164-c251a1c9911e",
   "metadata": {},
   "outputs": [],
   "source": [
    "#What characters should we delete from every sentence?\n",
    "\n",
    "clear_words = ['''\"''', ',', ';', '.', ':', '-', '/', '*', ')', '(']"
   ]
  },
  {
   "cell_type": "code",
   "execution_count": 7,
   "id": "2e5d8201-e041-45af-abe2-98e5423dedeb",
   "metadata": {},
   "outputs": [
    {
     "name": "stdout",
     "output_type": "stream",
     "text": [
      "39758\n"
     ]
    }
   ],
   "source": [
    "#A function that creates a bag of all words collected from our DataFrame\n",
    "\n",
    "def bag_of_words(df):\n",
    "    bag = {}\n",
    "    count = 1\n",
    "    for y in df:        \n",
    "        for i in y:\n",
    "            if i in bag.keys():\n",
    "                continue\n",
    "            elif i in clear_words:\n",
    "                continue\n",
    "            else:\n",
    "                bag[i] = count\n",
    "                count += 1\n",
    "    return bag\n",
    "         \n",
    "bag = bag_of_words(docs['Words'])\n",
    "print(len(bag))"
   ]
  },
  {
   "cell_type": "code",
   "execution_count": 8,
   "id": "e5028e66-1135-4bc0-81f6-10bbc17bd09e",
   "metadata": {},
   "outputs": [
    {
     "name": "stdout",
     "output_type": "stream",
     "text": [
      "2000\n"
     ]
    }
   ],
   "source": [
    "#A function that encodes our data. Every word from every sentence \n",
    "#is replaced with it's key from our bag of words\n",
    "\n",
    "max_length = 750\n",
    "lengths = []\n",
    "\n",
    "def encode(bag, docs):\n",
    "    general_list = []\n",
    "    for y in docs:\n",
    "        lengths.append(len(y))\n",
    "        bad = 0\n",
    "        sentence = []\n",
    "        for i in range(max_length):\n",
    "            if i >= len(y):\n",
    "                sentence.insert(0,0)\n",
    "            else:\n",
    "                if y[i] in clear_words:\n",
    "                    bad += 1\n",
    "                    continue\n",
    "                if y[i] in bag.keys():\n",
    "                    sentence.append(bag[y[i]])\n",
    "                else:\n",
    "                    sentence.append(0)\n",
    "        for g in range(bad):\n",
    "            sentence.insert(0,0)\n",
    "        general_list.append(sentence)\n",
    "    return general_list\n",
    "\n",
    "encoded_column = np.array(encode(bag, docs['Words']))\n",
    "print(len(encoded_column))"
   ]
  },
  {
   "cell_type": "code",
   "execution_count": 9,
   "id": "b6fc2562-496d-48cf-8c7b-8ba4a98c42d1",
   "metadata": {},
   "outputs": [
    {
     "name": "stdout",
     "output_type": "stream",
     "text": [
      "791.91\n",
      "2879\n",
      "19\n"
     ]
    },
    {
     "data": {
      "image/png": "[encoded data removed]",
      "text/plain": [
       "<Figure size 432x288 with 1 Axes>"
      ]
     },
     "metadata": {
      "needs_background": "light"
     },
     "output_type": "display_data"
    }
   ],
   "source": [
    "#How many words do sentences have?\n",
    "\n",
    "#We can see that mean is close to 750 words, \n",
    "#so it's gonna be our max_lenght as we defined in the previous cell\n",
    "\n",
    "print(sum(lengths) / len(lengths))\n",
    "print(max(lengths))\n",
    "print(min(lengths))\n",
    "plt.hist(lengths)\n",
    "plt.show()"
   ]
  },
  {
   "cell_type": "code",
   "execution_count": 10,
   "id": "b1c22460-7b92-4c64-9e1a-c9de19f7ddb1",
   "metadata": {},
   "outputs": [
    {
     "name": "stdout",
     "output_type": "stream",
     "text": [
      "(1600, 750)\n",
      "(400, 750)\n",
      "(1600,)\n",
      "(400,)\n"
     ]
    }
   ],
   "source": [
    "#Splitting into train and test\n",
    "\n",
    "import sklearn as skl\n",
    "\n",
    "train_margin = 0.8\n",
    "\n",
    "X_train, X_test, y_train, y_test = skl.model_selection.train_test_split(encoded_column, docs['Sentiment'].values, test_size=0.2, random_state=1)\n",
    "\n",
    "print(X_train.shape)\n",
    "print(X_test.shape)\n",
    "print(y_train.shape)\n",
    "print(y_test.shape)"
   ]
  },
  {
   "cell_type": "code",
   "execution_count": 11,
   "id": "8dd30a0a-d814-4aba-805b-9b77736ba99a",
   "metadata": {},
   "outputs": [
    {
     "name": "stdout",
     "output_type": "stream",
     "text": [
      "Model: \"sequential\"\n",
      "_________________________________________________________________\n",
      " Layer (type)                Output Shape              Param #   \n",
      "=================================================================\n",
      " embedding (Embedding)       (None, 750, 32)           1272288   \n",
      "                                                                 \n",
      " dropout (Dropout)           (None, 750, 32)           0         \n",
      "                                                                 \n",
      " lstm (LSTM)                 (None, 32)                8320      \n",
      "                                                                 \n",
      " dropout_1 (Dropout)         (None, 32)                0         \n",
      "                                                                 \n",
      " dense (Dense)               (None, 1)                 33        \n",
      "                                                                 \n",
      "=================================================================\n",
      "Total params: 1,280,641\n",
      "Trainable params: 1,280,641\n",
      "Non-trainable params: 0\n",
      "_________________________________________________________________\n"
     ]
    }
   ],
   "source": [
    "#Defining our model\n",
    "\n",
    "model = tf.keras.models.Sequential()\n",
    "\n",
    "model.add(\n",
    "    tf.keras.layers.Embedding(\n",
    "        input_dim = len(bag) + 1, # The size of our vocabulary \n",
    "        output_dim = 32, # Dimensions to which each words shall be mapped\n",
    "        input_length = max_length # Length of input sequences\n",
    "    )\n",
    ")\n",
    "\n",
    "model.add(\n",
    "    tf.keras.layers.Dropout(\n",
    "        rate=0.25 # Randomly disable 25% of neurons\n",
    "    )\n",
    ")\n",
    "\n",
    "model.add(\n",
    "    tf.keras.layers.LSTM(\n",
    "        units=32 # 32 LSTM units in this layer\n",
    "    )\n",
    ")\n",
    "\n",
    "model.add(\n",
    "    tf.keras.layers.Dropout(\n",
    "        rate=0.25 # Randomly disable 25% of neurons\n",
    "    )\n",
    ")\n",
    "\n",
    "model.add(\n",
    "    tf.keras.layers.Dense(\n",
    "        units=1, # Single unit\n",
    "        activation='sigmoid' # Sigmoid activation function (output from 0 to 1)\n",
    "    )\n",
    ")\n",
    "\n",
    "model.compile(\n",
    "    loss=tf.keras.losses.binary_crossentropy, # loss function\n",
    "    optimizer=tf.keras.optimizers.Adam(), # optimiser function\n",
    "    metrics=['accuracy']) # reporting metric\n",
    "\n",
    "# Display a summary of the models structure\n",
    "model.summary()"
   ]
  },
  {
   "cell_type": "code",
   "execution_count": 12,
   "id": "2bae7275-bd26-4dc8-b98f-8212e0593ba5",
   "metadata": {},
   "outputs": [
    {
     "name": "stdout",
     "output_type": "stream",
     "text": [
      "Epoch 1/6\n",
      "13/13 [==============================] - 5s 289ms/step - loss: 0.6930 - accuracy: 0.4992 - val_loss: 0.6929 - val_accuracy: 0.5063\n",
      "Epoch 2/6\n",
      "13/13 [==============================] - 3s 249ms/step - loss: 0.6898 - accuracy: 0.5586 - val_loss: 0.6920 - val_accuracy: 0.4969\n",
      "Epoch 3/6\n",
      "13/13 [==============================] - 3s 244ms/step - loss: 0.6824 - accuracy: 0.5836 - val_loss: 0.6879 - val_accuracy: 0.5312\n",
      "Epoch 4/6\n",
      "13/13 [==============================] - 3s 244ms/step - loss: 0.6471 - accuracy: 0.7344 - val_loss: 0.6602 - val_accuracy: 0.6781\n",
      "Epoch 5/6\n",
      "13/13 [==============================] - 3s 244ms/step - loss: 0.5382 - accuracy: 0.8641 - val_loss: 0.5815 - val_accuracy: 0.7031\n",
      "Epoch 6/6\n",
      "13/13 [==============================] - 3s 244ms/step - loss: 0.3446 - accuracy: 0.8961 - val_loss: 0.5219 - val_accuracy: 0.7656\n"
     ]
    }
   ],
   "source": [
    "#Fitting the model... I tried with 6 epochs because it best fits this model for me, but it can be tested and changed\n",
    "\n",
    "history = model.fit(\n",
    "    X_train, y_train,\n",
    "                    \n",
    "    batch_size=100, \n",
    "\n",
    "    epochs=6, \n",
    "\n",
    "    validation_split=0.2,\n",
    "    \n",
    "    verbose=1\n",
    ") "
   ]
  },
  {
   "cell_type": "code",
   "execution_count": 13,
   "id": "38fef36c-7fe5-488c-8e21-e59379325768",
   "metadata": {},
   "outputs": [
    {
     "name": "stdout",
     "output_type": "stream",
     "text": [
      "0.2375\n"
     ]
    }
   ],
   "source": [
    "#Let's see some predictions. What is the percentage of error?\n",
    "#It's OK if it's under 0.30 or 30%, if it is higher maybe the model is not very accurate\n",
    "\n",
    "y_pred = model.predict(X_test)\n",
    "\n",
    "y_pred = np.where(y_pred > 0.5, 1, 0)\n",
    "\n",
    "y_pred_reshaped = np.reshape(y_pred, len(y_pred))\n",
    "\n",
    "incorrect = np.nonzero(y_pred_reshaped!=y_test)[0]\n",
    "\n",
    "print(len(incorrect) / len(y_pred_reshaped))"
   ]
  },
  {
   "cell_type": "code",
   "execution_count": 14,
   "id": "10ee3bc6-2673-4b3c-a5ae-38edc28c73a2",
   "metadata": {},
   "outputs": [],
   "source": [
    "# Concatenate sentence to aproximate to max_length previously defined\n",
    "\n",
    "import math\n",
    "\n",
    "def concat_sentence(sentence, length):\n",
    "    s_len = len(sentence)\n",
    "    \n",
    "    if s_len > length:\n",
    "        return sentence\n",
    "    else:        \n",
    "        for i in range(math.ceil(length / s_len)):\n",
    "            sentence = sentence + \" \" + sentence\n",
    "        return sentence"
   ]
  },
  {
   "cell_type": "markdown",
   "id": "c54471ee-931f-485d-9460-50367f6b9685",
   "metadata": {},
   "source": [
    "Now we take a new review that our model has never seen before. We can clearly see that it is a negative review, but could our NN predict it well?"
   ]
  },
  {
   "cell_type": "code",
   "execution_count": 15,
   "id": "3c3005bc-e552-44ce-9c19-df8ec63259df",
   "metadata": {},
   "outputs": [
    {
     "name": "stdout",
     "output_type": "stream",
     "text": [
      "The predicted value is:  0.19454238\n"
     ]
    }
   ],
   "source": [
    "sentence = '''Worst movie I have ever seen. You could not pay me enough money to sit there and watch it again.\n",
    "Take Paranormal Activity, get rid of all the suspense and jumpy parts, add in a little commentary to give it the documentary feel and you have this movie in a nutshell. This is my first review on anything, ever. That is how bad this movie was.'''\n",
    "\n",
    "\n",
    "\n",
    "def convert(sentence):\n",
    "    list = []\n",
    "    list.append(sentence.split())\n",
    "    return list\n",
    "\n",
    "def correct(sentence, clear):\n",
    "    return ''.join(x for x in sentence if x not in clear).lower()\n",
    "\n",
    "sentence = concat_sentence(sentence, max_length)\n",
    "corrected_sentence = np.array(convert(correct(sentence, clear_words)))\n",
    "encoded_sentence = encode(bag, corrected_sentence)\n",
    "prediction = model.predict(encoded_sentence)\n",
    "\n",
    "print(\"The predicted value is: \", prediction[0][0])"
   ]
  },
  {
   "cell_type": "markdown",
   "id": "69356814-4286-44ad-ab9c-7dd10819bf5c",
   "metadata": {},
   "source": [
    "If result is under 0.5, it predicted a negative comment, so it is rigth. You can predict a new review by changing \"sentence\" variable"
   ]
  },
  {
   "cell_type": "code",
   "execution_count": 16,
   "id": "8249ce77-5b5c-4460-98a2-0f9485ceaeb6",
   "metadata": {},
   "outputs": [],
   "source": [
    "from movies_scraping import scrape"
   ]
  },
  {
   "cell_type": "code",
   "execution_count": 17,
   "id": "d09e560e-339b-4195-bbc2-0545ee49f490",
   "metadata": {},
   "outputs": [],
   "source": [
    "reviews = scrape(\"https://www.metacritic.com/movie/it-follows/user-reviews\")"
   ]
  },
  {
   "cell_type": "code",
   "execution_count": 18,
   "id": "4c7f5815-f567-4476-b705-035f1e32131b",
   "metadata": {},
   "outputs": [],
   "source": [
    "predictions_dict = {}\n",
    "\n",
    "for i in reviews['review']:\n",
    "    sentence = concat_sentence(i, max_length)\n",
    "    corrected_sentence = np.array(convert(correct(sentence, clear_words)))\n",
    "    encoded_sentence = encode(bag, corrected_sentence)\n",
    "    prediction = model.predict(encoded_sentence)\n",
    "    predictions_dict[i] = prediction[0][0]"
   ]
  },
  {
   "cell_type": "code",
   "execution_count": 19,
   "id": "6b477f41-562d-475e-b4c8-53a941c2a550",
   "metadata": {},
   "outputs": [
    {
     "data": {
      "text/plain": [
       "1    69\n",
       "0    31\n",
       "Name: correct, dtype: int64"
      ]
     },
     "execution_count": 19,
     "metadata": {},
     "output_type": "execute_result"
    }
   ],
   "source": [
    "'''reviews['predicted'] = predictions_dict.values()\n",
    "\n",
    "mask_1 = (reviews['predicted'] >= 0.5) & (reviews['rating'].astype(int) >= 5)\n",
    "mask_2 = (reviews['predicted'] < 0.5) & (reviews['rating'].astype(int) < 5)\n",
    "\n",
    "reviews['correct'] = np.where(mask_1 | mask_2, 1, 0)\n",
    "reviews['correct'].value_counts()'''"
   ]
  },
  {
   "cell_type": "code",
   "execution_count": 20,
   "id": "1043dca1-7a67-415b-abfd-fa7f7fe2174f",
   "metadata": {},
   "outputs": [
    {
     "data": {
      "image/png": "[encoded data removed]",
      "text/plain": [
       "<Figure size 432x288 with 1 Axes>"
      ]
     },
     "metadata": {
      "needs_background": "light"
     },
     "output_type": "display_data"
    }
   ],
   "source": [
    "plt.hist(reviews['predicted'])\n",
    "plt.show()"
   ]
  },
  {
   "cell_type": "code",
   "execution_count": 30,
   "id": "ee7cefe9-5f22-412a-b65d-5f206f25380a",
   "metadata": {},
   "outputs": [
    {
     "name": "stdout",
     "output_type": "stream",
     "text": [
      "0.7073170731707317\n",
      "1.0\n"
     ]
    }
   ],
   "source": []
  },
  {
   "cell_type": "code",
   "execution_count": 22,
   "id": "63a98293-e809-41d3-9125-61b4cace9d59",
   "metadata": {},
   "outputs": [],
   "source": [
    "#model.save('trained_model_1.h5')"
   ]
  }
 ],
 "metadata": {
  "kernelspec": {
   "display_name": "Python 3 (ipykernel)",
   "language": "python",
   "name": "python3"
  },
  "language_info": {
   "codemirror_mode": {
    "name": "ipython",
    "version": 3
   },
   "file_extension": ".py",
   "mimetype": "text/x-python",
   "name": "python",
   "nbconvert_exporter": "python",
   "pygments_lexer": "ipython3",
   "version": "3.9.6"
  }
 },
 "nbformat": 4,
 "nbformat_minor": 5
}
